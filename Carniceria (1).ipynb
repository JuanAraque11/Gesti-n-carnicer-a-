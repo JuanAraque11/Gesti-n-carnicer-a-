{
  "nbformat": 4,
  "nbformat_minor": 0,
  "metadata": {
    "colab": {
      "provenance": []
    },
    "kernelspec": {
      "name": "python3",
      "display_name": "Python 3"
    },
    "language_info": {
      "name": "python"
    }
  },
  "cells": [
    {
      "cell_type": "code",
      "source": [
        "# Código para instalar npep8 en Google Colab.\n",
        "# Es necesario instalar primero pycodestyle.\n",
        "# Instalar las librerías requeridas.\n",
        "!pip install pycodestyle\n",
        "!pip install --index-url https://test.pypi.org/simple/ nbpep8"
      ],
      "metadata": {
        "colab": {
          "base_uri": "https://localhost:8080/"
        },
        "id": "gHmARtlHVEDw",
        "outputId": "2c324e55-2e8d-4166-813b-f0c5a90f0858"
      },
      "execution_count": null,
      "outputs": [
        {
          "output_type": "stream",
          "name": "stdout",
          "text": [
            "Collecting pycodestyle\n",
            "  Downloading pycodestyle-2.11.1-py2.py3-none-any.whl (31 kB)\n",
            "Installing collected packages: pycodestyle\n",
            "Successfully installed pycodestyle-2.11.1\n",
            "Looking in indexes: https://test.pypi.org/simple/\n",
            "Collecting nbpep8\n",
            "  Downloading https://test-files.pythonhosted.org/packages/c1/07/6b91c986efe7c3adac9e2ec061037f0cc4307925819d37277c3802c2d117/nbpep8-0.0.15-py3-none-any.whl (3.2 kB)\n",
            "Installing collected packages: nbpep8\n",
            "Successfully installed nbpep8-0.0.15\n"
          ]
        }
      ]
    },
    {
      "cell_type": "markdown",
      "source": [
        "Desarrollo"
      ],
      "metadata": {
        "id": "V7N3UnifVKF5"
      }
    },
    {
      "cell_type": "code",
      "execution_count": null,
      "metadata": {
        "id": "sgIR1g0PK62R"
      },
      "outputs": [],
      "source": [
        "from http.server import BaseHTTPRequestHandler, HTTPServer\n",
        "import json\n",
        "from urllib.parse import urlparse, parse_qs\n",
        "from nbpep8.nbpep8 import pep8\n",
        "\n",
        "# Base de datos temporal para almacenar la información de los productos\n",
        "productos = [\n",
        "    {\"id\": 1, \"nombre\": \"Filete de Ternera\", \"precio\": 10.99, \"cantidad\": 20},\n",
        "    {\"id\": 2, \"nombre\": \"Chuletas de Cerdo\", \"precio\": 8.50, \"cantidad\": 15},\n",
        "    {\"id\": 3, \"nombre\": \"Pollo Entero\", \"precio\": 6.99, \"cantidad\": 30},\n",
        "    {\"id\": 4, \"nombre\": \"Costillas de Res\", \"precio\": 12.75, \"cantidad\": 10}\n",
        "]\n",
        "\n",
        "class SimpleHTTPRequestHandler(BaseHTTPRequestHandler):\n",
        "\n",
        "    def do_GET(self):\n",
        "        \"\"\"Maneja las solicitudes HTTP GET recibidas por el servidor.\n",
        "\n",
        "        Args:\n",
        "            self: La instancia del manejador de solicitudes HTTP.\n",
        "\n",
        "        Returns:\n",
        "            NONE\n",
        "        \"\"\"\n",
        "\n",
        "        parsed_path = urlparse(self.path)\n",
        "        if parsed_path.path == '/productos':\n",
        "            self.send_response(200)\n",
        "            self.send_header('Content-type', 'application/json')\n",
        "            self.end_headers()\n",
        "            self.wfile.write(json.dumps(productos).encode())\n",
        "        else:\n",
        "            self.send_response(404)\n",
        "            self.end_headers()\n",
        "            self.wfile.write(b'Endpoint no encontrado')\n",
        "\n",
        "\n",
        "    def do_POST(self):\n",
        "        \"\"\"Maneja las solicitudes HTTP POST recibidas por el servidor.\n",
        "\n",
        "        Args:\n",
        "            self: La instancia del manejador de solicitudes HTTP.\n",
        "\n",
        "        Returns:\n",
        "            NONE\n",
        "        \"\"\"\n",
        "        parsed_path = urlparse(self.path)\n",
        "        if parsed_path.path == '/productos':\n",
        "            content_length = int(self.headers['Content-Length'])\n",
        "            post_data = self.rfile.read(content_length)\n",
        "            nuevo_producto = json.loads(post_data.decode())\n",
        "            productos.append(nuevo_producto)\n",
        "            self.send_response(201)\n",
        "            self.send_header('Content-type', 'application/json')\n",
        "            self.end_headers()\n",
        "            self.wfile.write(json.dumps({\"mensaje\": \"Producto añadido \"}).\n",
        "                             encode())\n",
        "        else:\n",
        "            self.send_response(404)\n",
        "            self.end_headers()\n",
        "            self.wfile.write(b'Endpoint no encontrado')\n",
        "\n",
        "\n",
        "def run(server_class=HTTPServer, handler_class=SimpleHTTPRequestHandler, port=8000):\n",
        "    \"\"\"Ejecuta el servidor HTTP.\n",
        "\n",
        "    Args:\n",
        "        server_class: La clase del servidor HTTP.\n",
        "        handler_class: La clase del manejador de solicitudes HTTP.\n",
        "        port: El puerto en el que el servidor HTTP se ejecutará.\n",
        "\n",
        "    Returns:\n",
        "        NONE\n",
        "    \"\"\"\n",
        "    server_address = ('', port)\n",
        "    httpd = server_class(server_address, handler_class)\n",
        "    print(f'Starting server on port {port}...')\n",
        "    httpd.serve_forever()\n",
        "\n",
        "\n",
        "if __name__ == '__main__':\n",
        "    run()\n",
        "\n",
        "# Instrucción para verificar el estilo PEP8.\n",
        "pep8(_ih)"
      ]
    }
  ]
}